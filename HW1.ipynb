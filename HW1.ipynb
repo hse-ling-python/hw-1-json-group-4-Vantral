{
 "cells": [
  {
   "cell_type": "code",
   "execution_count": 3,
   "metadata": {},
   "outputs": [],
   "source": [
    "%load_ext pycodestyle_magic\n",
    "%pycodestyle_on"
   ]
  },
  {
   "cell_type": "code",
   "execution_count": 15,
   "metadata": {},
   "outputs": [],
   "source": [
    "import json\n",
    "import pprint\n",
    "from collections import Counter\n",
    "import string\n",
    "import re"
   ]
  },
  {
   "cell_type": "markdown",
   "metadata": {},
   "source": [
    "## Принты\n",
    "Сделал два разных вывода, _nice_print_ для топ-списка, _good_print_ для таблички."
   ]
  },
  {
   "cell_type": "code",
   "execution_count": 36,
   "metadata": {},
   "outputs": [],
   "source": [
    "def nice_print(name, list_of_items, t=''):\n",
    "    print(name)\n",
    "    for item in list_of_items:\n",
    "        print(list_of_items.index(item) + 1, item[0], t, item[1])\n",
    "\n",
    "\n",
    "def good_print(col_1, col_2, ljust, list_of_items):\n",
    "    print(col_1.ljust(ljust) + '\\t' + col_2)\n",
    "    print('-' * ljust * 2)\n",
    "    for item in list_of_items:\n",
    "        print(item[0].ljust(ljust) + '\\t' + str(item[1]))"
   ]
  },
  {
   "cell_type": "markdown",
   "metadata": {},
   "source": [
    "## Задание 1\n",
    "Открываю файл и считываю его построчно, потом смотрю на длину получившегося списка"
   ]
  },
  {
   "cell_type": "code",
   "execution_count": 10,
   "metadata": {},
   "outputs": [
    {
     "name": "stdout",
     "output_type": "stream",
     "text": [
      "всего 2556 твитов\n"
     ]
    }
   ],
   "source": [
    "twits = []\n",
    "for twit in open('hw_3_twitter.json'):\n",
    "    twits.append(json.loads(twit))\n",
    "print('всего %s твитов' % len(twits))"
   ]
  },
  {
   "cell_type": "markdown",
   "metadata": {},
   "source": [
    "## Задание 2\n",
    "Завожу счётчик и считаю, сколько твитов с пометкой __delete__, потом считаю проценты (с округлением до 2 знаков)"
   ]
  },
  {
   "cell_type": "code",
   "execution_count": 11,
   "metadata": {},
   "outputs": [
    {
     "name": "stdout",
     "output_type": "stream",
     "text": [
      "удалённых твитов 14.16 процентов от общего числа\n"
     ]
    }
   ],
   "source": [
    "k = 0\n",
    "for twit in twits:\n",
    "    if 'delete' in twit:\n",
    "        k += 1\n",
    "print('удалённых твитов %s процентов от общего числа'\n",
    "      % round(k / len(twits) * 100, 2))"
   ]
  },
  {
   "cell_type": "markdown",
   "metadata": {},
   "source": [
    "## Задание 3\n",
    "Проверяю, есть ли в твите __lang__, если есть, то добавляю его значение в список. Потом прохожусь **Counter**-ом, выбираю 15 самых популярных и распечатываю."
   ]
  },
  {
   "cell_type": "code",
   "execution_count": 28,
   "metadata": {},
   "outputs": [
    {
     "name": "stdout",
     "output_type": "stream",
     "text": [
      "топ 15 самых популярных языков\n",
      "1 en \t 719\n",
      "2 ja \t 438\n",
      "3 es \t 173\n",
      "4 ko \t 149\n",
      "5 th \t 123\n",
      "6 ar \t 119\n",
      "7 und \t 117\n",
      "8 in \t 71\n",
      "9 pt \t 69\n",
      "10 fr \t 35\n",
      "11 tr \t 30\n",
      "12 tl \t 29\n",
      "13 hi \t 23\n",
      "14 ru \t 15\n",
      "15 fa \t 8\n"
     ]
    }
   ],
   "source": [
    "langs = []\n",
    "for twit in twits:\n",
    "    if 'lang' in twit:\n",
    "        langs.append(twit['lang'])\n",
    "mc = Counter(langs).most_common(15)\n",
    "nice_print('топ 15 самых популярных языков', mc, t='\\t')"
   ]
  },
  {
   "cell_type": "markdown",
   "metadata": {},
   "source": [
    "## Задание 4\n",
    "Сначала нахожу все **user_id** всех твитов (в том числе удалённых). Потом использую **Counter().most_common()**, чтобы отсортировать по количеству твитов. Затем добавляю пользователей в новый список, пока не попадётся пользователь с одним твитом. Печатаю в таблицу."
   ]
  },
  {
   "cell_type": "code",
   "execution_count": 60,
   "metadata": {},
   "outputs": [
    {
     "name": "stdout",
     "output_type": "stream",
     "text": [
      "66 пользователей, у которых больше одного твита\n",
      "\n",
      "id пользователя    \tколичество твитов\n",
      "--------------------------------------\n",
      "790593289934209025 \t11\n",
      "2750500049         \t10\n",
      "590742037          \t10\n",
      "808526517147815936 \t6\n",
      "4137811932         \t4\n",
      "273413828          \t4\n",
      "3137027515         \t4\n",
      "168350800          \t4\n",
      "2390342004         \t3\n",
      "88401106           \t3\n",
      "1040919699721084928\t3\n",
      "613339621          \t3\n",
      "2871443750         \t2\n",
      "730365119805292544 \t2\n",
      "992084216350294016 \t2\n",
      "822238094652882948 \t2\n",
      "1409357251         \t2\n",
      "581282101          \t2\n",
      "995919322282250240 \t2\n",
      "2317193324         \t2\n",
      "978499715657445377 \t2\n",
      "871711626352832513 \t2\n",
      "2245928100         \t2\n",
      "993031040          \t2\n",
      "174334388          \t2\n",
      "804631744896868354 \t2\n",
      "3718013776         \t2\n",
      "290401936          \t2\n",
      "3067130479         \t2\n",
      "849417895109156869 \t2\n",
      "1020277823343390720\t2\n",
      "958056194366754816 \t2\n",
      "572311397          \t2\n",
      "769094648438648832 \t2\n",
      "1017442172495331328\t2\n",
      "702487896935104513 \t2\n",
      "3552991            \t2\n",
      "995683537197158401 \t2\n",
      "121016179          \t2\n",
      "947288315375394817 \t2\n",
      "2464271844         \t2\n",
      "750698529010520065 \t2\n",
      "1009443285176340482\t2\n",
      "749152161087488000 \t2\n",
      "860202971266772992 \t2\n",
      "736263858151522304 \t2\n",
      "4835631911         \t2\n",
      "2734975298         \t2\n",
      "504028163          \t2\n",
      "4311188534         \t2\n",
      "2792288015         \t2\n",
      "261044445          \t2\n",
      "1290792062         \t2\n",
      "141015507          \t2\n",
      "897067178754686976 \t2\n",
      "1117055563         \t2\n",
      "603576097          \t2\n",
      "4179415159         \t2\n",
      "716818758606721025 \t2\n",
      "739119814069739523 \t2\n",
      "3222118758         \t2\n",
      "772081812109570048 \t2\n",
      "1006114081739288577\t2\n",
      "723225194          \t2\n",
      "917213173492572160 \t2\n",
      "2182060353         \t2\n"
     ]
    }
   ],
   "source": [
    "users = []\n",
    "for twit in twits:\n",
    "    if 'delete' in twit:\n",
    "        users.append(twit['delete']['status']['user_id_str'])\n",
    "    else:\n",
    "        users.append(twit['user']['id_str'])\n",
    "users = Counter(users).most_common()\n",
    "mult_users = []\n",
    "for user in users:\n",
    "    if user[1] > 1:\n",
    "        mult_users.append(user)\n",
    "    else:\n",
    "        break\n",
    "print('%s пользователей, у которых больше одного твита\\n' % len(mult_users))\n",
    "good_print('id пользователя', 'количество твитов', 19, mult_users)"
   ]
  },
  {
   "cell_type": "markdown",
   "metadata": {},
   "source": [
    "## Задание 5\n",
    "Проверяю есть ли поле **entities**; если есть -- достаю оттуда список хэштегов и из каждого достаю текст. Потом топ как в _Задании 3_."
   ]
  },
  {
   "cell_type": "code",
   "execution_count": 35,
   "metadata": {},
   "outputs": [
    {
     "name": "stdout",
     "output_type": "stream",
     "text": [
      "топ 20 хэштегов\n",
      "1 BTS  17\n",
      "2 방탄소년단  13\n",
      "3 AMAs  11\n",
      "4 人気投票ガチャ  8\n",
      "5 태형  7\n",
      "6 뷔  6\n",
      "7 BTSinChicago  5\n",
      "8 BTSLoveYourselfTour  5\n",
      "9 오늘의방탄  5\n",
      "10 PledgeForSwachhBharat  5\n",
      "11 MPN  5\n",
      "12 PCAs  4\n",
      "13 V  4\n",
      "14 시카고1회차공연  4\n",
      "15 เป๊กผลิตโชค  4\n",
      "16 JIMIN  4\n",
      "17 running  3\n",
      "18 NCT  3\n",
      "19 지민  3\n",
      "20 WajahmuPlastik  3\n"
     ]
    }
   ],
   "source": [
    "hashtags = []\n",
    "for twit in twits:\n",
    "    if 'entities' in twit:\n",
    "        for hashtag in twit['entities']['hashtags']:\n",
    "            hashtags.append(hashtag['text'])\n",
    "hashtags = Counter(hashtags).most_common(20)\n",
    "nice_print('топ 20 хэштегов', hashtags)"
   ]
  },
  {
   "cell_type": "markdown",
   "metadata": {},
   "source": [
    "## Задание 6\n",
    "Сначала собираю все слова в англоязычных твитах, которые не ретвиты (нет **retweeted_status** и **quoted_status**). Потом чищу все слова от пунктуации с помощью списка, полученного из **string.punctuation** и дополненного мной **'…'**. Все чистенькие слова добавляю в новый список и прохожусь **Counter**-ом, потом печатаю, как в одном из предыдущих заданий."
   ]
  },
  {
   "cell_type": "code",
   "execution_count": 58,
   "metadata": {},
   "outputs": [
    {
     "name": "stdout",
     "output_type": "stream",
     "text": [
      "слово                          \tколичество упоминаний\n",
      "--------------------------------------------------------------\n",
      "the                            \t107\n",
      "to                             \t79\n",
      "a                              \t67\n",
      "i                              \t60\n",
      "and                            \t58\n",
      "you                            \t45\n",
      "is                             \t41\n",
      "for                            \t40\n",
      "of                             \t40\n",
      "it                             \t38\n",
      "in                             \t32\n",
      "that                           \t30\n",
      "my                             \t26\n",
      "on                             \t25\n",
      "me                             \t25\n",
      "be                             \t22\n",
      "this                           \t20\n",
      "are                            \t20\n",
      "have                           \t19\n",
      "so                             \t18\n",
      "but                            \t17\n",
      "at                             \t17\n",
      "your                           \t16\n",
      "get                            \t16\n",
      "not                            \t16\n",
      "more                           \t16\n",
      "with                           \t16\n",
      "what                           \t15\n",
      "just                           \t14\n",
      "about                          \t13\n",
      "now                            \t12\n",
      "up                             \t11\n",
      "we                             \t11\n",
      "all                            \t10\n",
      "only                           \t10\n",
      "was                            \t10\n",
      "hit                            \t10\n",
      "out                            \t9\n",
      "today                          \t9\n",
      "if                             \t9\n"
     ]
    }
   ],
   "source": [
    "raw_words = []\n",
    "punc = string.punctuation + '…'\n",
    "punc = punc.replace(\"'\", \"\")\n",
    "for twit in twits:\n",
    "    if 'lang' in twit:\n",
    "        if twit['lang'] == 'en':\n",
    "            if 'retweeted_status' not in twit and 'quoted_status' not in twit:\n",
    "                raw_words.extend(twit['text'].split())\n",
    "words = []\n",
    "for rword in raw_words:\n",
    "    if rword.endswith(\"'\"):\n",
    "        rword = rword[:-1]\n",
    "    if rword.startswith(\"'\"):\n",
    "        rword = rword[1:]\n",
    "    for item in punc:\n",
    "        if item in rword:\n",
    "            rword = rword.replace(item, '')\n",
    "    if rword != '':\n",
    "        words.append(rword.lower())\n",
    "freq_d = Counter(words)\n",
    "for_print = freq_d.most_common(40)\n",
    "good_print('слово', 'количество упоминаний', 31, for_print)"
   ]
  },
  {
   "cell_type": "markdown",
   "metadata": {},
   "source": [
    "## Задание 7\n",
    "Собираю данные обо всех подписчиках всех пользователей, потом уаляю дубли с помощью **set**. Дальше сортирую список кортежей по второму элементу и беру первые 10, печатаю."
   ]
  },
  {
   "cell_type": "code",
   "execution_count": 41,
   "metadata": {},
   "outputs": [
    {
     "name": "stdout",
     "output_type": "stream",
     "text": [
      "топ 10 самых популярных авторов:\n",
      "1 FIL0S0FIA  2521403\n",
      "2 FitnessMagazine  1491309\n",
      "3 malaysiakini  1206759\n",
      "4 NYTScience  1137374\n",
      "5 GramaticaReal  625463\n",
      "6 tgrthabertv  392472\n",
      "7 TheSunFootball  383698\n",
      "8 Melbourne  374222\n",
      "9 Roznama_Express  318189\n",
      "10 burger_boogie  311319\n"
     ]
    }
   ],
   "source": [
    "fols = []\n",
    "for twit in twits:\n",
    "    if 'user' in twit:\n",
    "        if 'followers_count' in twit['user']:\n",
    "            fols.append((\n",
    "                twit['user']['screen_name'],\n",
    "                twit['user']['followers_count']\n",
    "            ))\n",
    "fols = set(fols)\n",
    "fols = sorted(fols, key=lambda x: x[1], reverse=True)\n",
    "fols = fols[:10]\n",
    "nice_print('топ 10 самых популярных авторов:', fols)"
   ]
  },
  {
   "cell_type": "markdown",
   "metadata": {},
   "source": [
    "## Задание 8\n",
    "Завожу пустой список **sources** и сразу задаю паттерн для поиска источника. В каждом твите, если источник указан, кладу его в список, потом делаю частотный словарь и выбираю оттуда 10 первых элементов. Печатаю."
   ]
  },
  {
   "cell_type": "code",
   "execution_count": 42,
   "metadata": {},
   "outputs": [
    {
     "name": "stdout",
     "output_type": "stream",
     "text": [
      "топ 10 источников твитов:\n",
      "1 Twitter for iPhone  800\n",
      "2 Twitter for Android  695\n",
      "3 Twitter Web Client  140\n",
      "4 twittbot.net  122\n",
      "5 Twitter Lite  51\n",
      "6 Twitter for iPad  28\n",
      "7 TweetDeck  23\n",
      "8 Facebook  17\n",
      "9 IFTTT  14\n",
      "10 تطبيق قرآني  10\n"
     ]
    }
   ],
   "source": [
    "sources = []\n",
    "pattern = r'<a[^>]*>(.*)</a>'\n",
    "for twit in twits:\n",
    "    if 'source' in twit:\n",
    "        source = re.search(pattern, twit['source']).groups()\n",
    "        sources.extend(source)\n",
    "scs = Counter(sources).most_common(10)\n",
    "nice_print('топ 10 источников твитов:', scs)"
   ]
  }
 ],
 "metadata": {
  "kernelspec": {
   "display_name": "Python 3",
   "language": "python",
   "name": "python3"
  },
  "language_info": {
   "codemirror_mode": {
    "name": "ipython",
    "version": 3
   },
   "file_extension": ".py",
   "mimetype": "text/x-python",
   "name": "python",
   "nbconvert_exporter": "python",
   "pygments_lexer": "ipython3",
   "version": "3.7.3"
  }
 },
 "nbformat": 4,
 "nbformat_minor": 2
}
